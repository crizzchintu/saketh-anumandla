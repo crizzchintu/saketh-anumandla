{
  "nbformat": 4,
  "nbformat_minor": 0,
  "metadata": {
    "colab": {
      "provenance": []
    },
    "kernelspec": {
      "name": "python3",
      "display_name": "Python 3"
    },
    "language_info": {
      "name": "python"
    }
  },
  "cells": [
    {
      "cell_type": "code",
      "source": [
        "pokelist=[12,13,14,15,\"jigglipuff\" ,\"1\",\"2\",\"3\"]\n",
        "for poke in pokelist:\n",
        "  print(poke)"
      ],
      "metadata": {
        "colab": {
          "base_uri": "https://localhost:8080/"
        },
        "id": "J0N3kLv81zPe",
        "outputId": "715bbc85-f786-49d1-993a-1f3d1884eb72"
      },
      "execution_count": null,
      "outputs": [
        {
          "output_type": "stream",
          "name": "stdout",
          "text": [
            "12\n",
            "13\n",
            "14\n",
            "15\n",
            "jigglipuff\n",
            "1\n",
            "2\n",
            "3\n"
          ]
        }
      ]
    },
    {
      "cell_type": "code",
      "source": [
        "v1=\"pikachu in pokemon\"\n",
        "v0=\"raichu\"\n",
        "v2=\"pichu\"\n",
        "v=\"red\"\n",
        "for a in v1:\n",
        "  print(a)\n",
        "else:\n",
        "  for a in v2:\n",
        "    print(a)\n"
      ],
      "metadata": {
        "colab": {
          "base_uri": "https://localhost:8080/"
        },
        "id": "33LjMeNg2iyj",
        "outputId": "3a4c69e3-6990-41a3-d511-67ed0d9c866c"
      },
      "execution_count": null,
      "outputs": [
        {
          "output_type": "stream",
          "name": "stdout",
          "text": [
            "p\n",
            "i\n",
            "k\n",
            "a\n",
            "c\n",
            "h\n",
            "u\n",
            " \n",
            "i\n",
            "n\n",
            " \n",
            "p\n",
            "o\n",
            "k\n",
            "e\n",
            "m\n",
            "o\n",
            "n\n",
            "p\n",
            "i\n",
            "c\n",
            "h\n",
            "u\n"
          ]
        }
      ]
    },
    {
      "cell_type": "code",
      "source": [
        "L1=[\"pikachu_1\",\"raichu_2\",\"saketh_3\",\"praveen_4\"]\n",
        "v1=\"pikachu_1\"\n",
        "print(L1[0])\n",
        "print(L1[1])\n",
        "print(L1[3])\n",
        "print(v1[:3])"
      ],
      "metadata": {
        "colab": {
          "base_uri": "https://localhost:8080/"
        },
        "id": "0i3ZWSfo5DXf",
        "outputId": "940c1bd8-87e6-4b91-ddf4-26e5dc29e867"
      },
      "execution_count": null,
      "outputs": [
        {
          "output_type": "stream",
          "name": "stdout",
          "text": [
            "pikachu_1\n",
            "raichu_2\n",
            "praveen_4\n",
            "pik\n"
          ]
        }
      ]
    },
    {
      "cell_type": "code",
      "source": [
        "v1=\"pikachu\"\n",
        "print(v1[1:-3])"
      ],
      "metadata": {
        "colab": {
          "base_uri": "https://localhost:8080/"
        },
        "id": "i1KBNrMT8bM2",
        "outputId": "3c8fd0dd-5dd5-4a4d-efd5-83136199f57e"
      },
      "execution_count": null,
      "outputs": [
        {
          "output_type": "stream",
          "name": "stdout",
          "text": [
            "ika\n"
          ]
        }
      ]
    },
    {
      "cell_type": "code",
      "source": [
        "v1=\"pikachu\"\n",
        "print(v1[-3:])"
      ],
      "metadata": {
        "colab": {
          "base_uri": "https://localhost:8080/"
        },
        "id": "GidLNfWG-OMP",
        "outputId": "d7beb7cc-d61b-45d7-8e32-a7699d92dc28"
      },
      "execution_count": null,
      "outputs": [
        {
          "output_type": "stream",
          "name": "stdout",
          "text": [
            "chu\n"
          ]
        }
      ]
    },
    {
      "cell_type": "code",
      "source": [
        "v1=\"pikachu\"\n",
        "print(v1[::-1])"
      ],
      "metadata": {
        "colab": {
          "base_uri": "https://localhost:8080/"
        },
        "id": "cKesUucj-0js",
        "outputId": "440a145f-f825-4298-f82e-473023abfd46"
      },
      "execution_count": null,
      "outputs": [
        {
          "output_type": "stream",
          "name": "stdout",
          "text": [
            "uhcakip\n"
          ]
        }
      ]
    },
    {
      "cell_type": "code",
      "source": [
        "l=[\"saketh_01\",\"praveen_56\",\"sukesh_199\",\"riya_88\",\"ziya_22\",\"satvika_26\"]\n",
        "for a in l:\n",
        "  print(a[-4::-1])"
      ],
      "metadata": {
        "id": "UFgTeIgQ_LQE",
        "colab": {
          "base_uri": "https://localhost:8080/"
        },
        "outputId": "4715226f-ff28-4bc3-f322-48883873420a"
      },
      "execution_count": 40,
      "outputs": [
        {
          "output_type": "stream",
          "name": "stdout",
          "text": [
            "htekas\n",
            "neevarp\n",
            "_hsekus\n",
            "ayir\n",
            "ayiz\n",
            "akivtas\n"
          ]
        }
      ]
    },
    {
      "cell_type": "code",
      "source": [
        "l=[\"saketh_01\",\"praveen_56\",\"sukesh_99\",\"riya_88\",\"ziya_22\",\"satvika_26\"]\n",
        "for a in l[::-1]:\n",
        "  print(a[:-3])\n"
      ],
      "metadata": {
        "id": "ZL80MkBxOkk7",
        "colab": {
          "base_uri": "https://localhost:8080/"
        },
        "outputId": "f8ec48e3-c86b-4920-8402-06731fb6b166"
      },
      "execution_count": 39,
      "outputs": [
        {
          "output_type": "stream",
          "name": "stdout",
          "text": [
            "satvika\n",
            "ziya\n",
            "riya\n",
            "sukesh\n",
            "praveen\n",
            "saketh\n"
          ]
        }
      ]
    },
    {
      "cell_type": "code",
      "source": [
        "a=[\"saketh_01\",\"praveen_56\",\"sukesh_99\",\"riya_88\",\"ziya_22\",\"satvika_26\"]\n",
        "a[len(a)-1]\n"
      ],
      "metadata": {
        "colab": {
          "base_uri": "https://localhost:8080/",
          "height": 35
        },
        "id": "Oau9wgIAUZDi",
        "outputId": "b1b4a6bb-39cd-46e6-e3aa-479ac1088dea"
      },
      "execution_count": 42,
      "outputs": [
        {
          "output_type": "execute_result",
          "data": {
            "text/plain": [
              "'satvika_26'"
            ],
            "application/vnd.google.colaboratory.intrinsic+json": {
              "type": "string"
            }
          },
          "metadata": {},
          "execution_count": 42
        }
      ]
    },
    {
      "cell_type": "code",
      "source": [
        "l=[\"saketh_01\",\"praveen_56\",\"sukesh_99\",\"riya_88\",\"ziya_22\",\"satvika_26\"]\n",
        "for a in l:\n",
        "   k=a.find('_')\n",
        "   print(a[:k])\n"
      ],
      "metadata": {
        "colab": {
          "base_uri": "https://localhost:8080/"
        },
        "id": "VAyCOnX3XD6I",
        "outputId": "566ad879-2f4d-41b5-ebfb-7af7c8c08eb1"
      },
      "execution_count": 57,
      "outputs": [
        {
          "output_type": "stream",
          "name": "stdout",
          "text": [
            "saketh\n",
            "praveen\n",
            "sukesh\n",
            "riya\n",
            "ziya\n",
            "satvika\n"
          ]
        }
      ]
    },
    {
      "cell_type": "code",
      "source": [
        "l=[\"saketh_01\",\"praveen_56\",\"sukesh_99\",\"riya_88\",\"ziya_22\",\"satvika_26\"]\n",
        "for a in l[::-1][::2]:\n",
        "  k=a.find('_')\n",
        "  print(a[:k])\n"
      ],
      "metadata": {
        "colab": {
          "base_uri": "https://localhost:8080/"
        },
        "id": "pLJyUUgxXfR-",
        "outputId": "600a44a9-ff3b-45a4-88fb-1669d66b9250"
      },
      "execution_count": 58,
      "outputs": [
        {
          "output_type": "stream",
          "name": "stdout",
          "text": [
            "satvika\n",
            "riya\n",
            "praveen\n"
          ]
        }
      ]
    },
    {
      "cell_type": "code",
      "source": [
        "l=[\"saketh_01\",\"praveen_56\",\"sukesh_99\",\"riya_88\",\"ziya_22\",\"satvika_26\"]\n",
        "for a in l[::-1][::2]:\n",
        "  k=a.find('_')\n",
        "  print(a[:k])\n",
        "  \n",
        "\n"
      ],
      "metadata": {
        "colab": {
          "base_uri": "https://localhost:8080/"
        },
        "id": "t86uZsiPatG3",
        "outputId": "12caf7f6-ec17-4fe9-ef32-5f08622805b4"
      },
      "execution_count": 63,
      "outputs": [
        {
          "output_type": "stream",
          "name": "stdout",
          "text": [
            "satvika\n",
            "riya\n",
            "praveen\n"
          ]
        }
      ]
    },
    {
      "cell_type": "code",
      "source": [
        "l=[\"saketh_01\",\"praveen_56\",\"sukesh_99\",\"riya_88\",\"ziya_22\",\"satvika_26\"]\n",
        "for a in l:\n",
        "    x=a.startswith(\"s\")\n",
        "    print(x)"
      ],
      "metadata": {
        "colab": {
          "base_uri": "https://localhost:8080/"
        },
        "id": "Hu4go-_WblOh",
        "outputId": "5785265c-bd96-4d5a-8b8e-75678ab93957"
      },
      "execution_count": 66,
      "outputs": [
        {
          "output_type": "stream",
          "name": "stdout",
          "text": [
            "True\n",
            "False\n",
            "True\n",
            "False\n",
            "False\n",
            "True\n"
          ]
        }
      ]
    },
    {
      "cell_type": "code",
      "source": [
        "l=[\"saketh_01\",\"praveen_56\",\"sukesh_99\",\"riya_88\",\"ziya_22\",\"satvika_26\"]\n",
        "l2=[]\n",
        "for i in l[::2]:\n",
        "     l2.append(i)\n",
        "print(l2)\n"
      ],
      "metadata": {
        "colab": {
          "base_uri": "https://localhost:8080/"
        },
        "id": "j7sibFl3eO3N",
        "outputId": "7b40745d-798b-4583-e3e8-532dd36bd35b"
      },
      "execution_count": 71,
      "outputs": [
        {
          "output_type": "stream",
          "name": "stdout",
          "text": [
            "['saketh_01', 'sukesh_99', 'ziya_22']\n"
          ]
        }
      ]
    },
    {
      "cell_type": "code",
      "source": [],
      "metadata": {
        "id": "nfXmmleHjZl8"
      },
      "execution_count": null,
      "outputs": []
    }
  ]
}